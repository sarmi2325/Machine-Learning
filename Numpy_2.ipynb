{
  "nbformat": 4,
  "nbformat_minor": 0,
  "metadata": {
    "colab": {
      "provenance": [],
      "authorship_tag": "ABX9TyN8k0z3TQYWHJ1Q3qvvEDpW",
      "include_colab_link": true
    },
    "kernelspec": {
      "name": "python3",
      "display_name": "Python 3"
    },
    "language_info": {
      "name": "python"
    }
  },
  "cells": [
    {
      "cell_type": "markdown",
      "metadata": {
        "id": "view-in-github",
        "colab_type": "text"
      },
      "source": [
        "<a href=\"https://colab.research.google.com/github/sarmi2325/Machine-Learning/blob/main/Numpy_2.ipynb\" target=\"_parent\"><img src=\"https://colab.research.google.com/assets/colab-badge.svg\" alt=\"Open In Colab\"/></a>"
      ]
    },
    {
      "cell_type": "code",
      "source": [
        "import numpy as np"
      ],
      "metadata": {
        "id": "ZJRso-Y3dnpv"
      },
      "execution_count": 1,
      "outputs": []
    },
    {
      "cell_type": "markdown",
      "source": [
        "Using Shape, we can find the dimension of the array.\n",
        "Also, transpose can be done"
      ],
      "metadata": {
        "id": "ZzbNi2zjeTpJ"
      }
    },
    {
      "cell_type": "code",
      "execution_count": 3,
      "metadata": {
        "colab": {
          "base_uri": "https://localhost:8080/"
        },
        "id": "raQU9CIGddj7",
        "outputId": "c151c951-9985-46e3-9d29-00d49917d5d4"
      },
      "outputs": [
        {
          "output_type": "execute_result",
          "data": {
            "text/plain": [
              "array([[1, 2, 3],\n",
              "       [4, 5, 6]])"
            ]
          },
          "metadata": {},
          "execution_count": 3
        }
      ],
      "source": [
        "n1=np.array([[1,2,3],[4,5,6]])\n",
        "n1"
      ]
    },
    {
      "cell_type": "code",
      "source": [
        "n1.shape"
      ],
      "metadata": {
        "colab": {
          "base_uri": "https://localhost:8080/"
        },
        "id": "HWiMiITUd90J",
        "outputId": "6a085afc-b4a2-4259-8854-d297bc3b026b"
      },
      "execution_count": 5,
      "outputs": [
        {
          "output_type": "execute_result",
          "data": {
            "text/plain": [
              "(2, 3)"
            ]
          },
          "metadata": {},
          "execution_count": 5
        }
      ]
    },
    {
      "cell_type": "code",
      "source": [
        "n1.shape = (3,2)\n",
        "n1"
      ],
      "metadata": {
        "colab": {
          "base_uri": "https://localhost:8080/"
        },
        "id": "HlB_ZA09eEcV",
        "outputId": "741c4525-af93-49f1-f076-2265360f18da"
      },
      "execution_count": 9,
      "outputs": [
        {
          "output_type": "execute_result",
          "data": {
            "text/plain": [
              "array([[1, 2],\n",
              "       [3, 4],\n",
              "       [5, 6]])"
            ]
          },
          "metadata": {},
          "execution_count": 9
        }
      ]
    },
    {
      "cell_type": "markdown",
      "source": [
        "Stacking Methods"
      ],
      "metadata": {
        "id": "lkS9k58AgMiL"
      }
    },
    {
      "cell_type": "markdown",
      "source": [
        "Vertical Stack"
      ],
      "metadata": {
        "id": "UgkbeWhKfqJp"
      }
    },
    {
      "cell_type": "code",
      "source": [
        "n2=np.array([1,2,3])\n",
        "n3=np.array([4,5,6])\n",
        "np.vstack((n2,n3))"
      ],
      "metadata": {
        "colab": {
          "base_uri": "https://localhost:8080/"
        },
        "id": "GXIcrCZreSxI",
        "outputId": "77e9619a-b32d-4dcc-f01b-e217625d8c5e"
      },
      "execution_count": 12,
      "outputs": [
        {
          "output_type": "execute_result",
          "data": {
            "text/plain": [
              "array([[1, 2, 3],\n",
              "       [4, 5, 6]])"
            ]
          },
          "metadata": {},
          "execution_count": 12
        }
      ]
    },
    {
      "cell_type": "markdown",
      "source": [
        "Horizontal Stack"
      ],
      "metadata": {
        "id": "na73C5mvfmrD"
      }
    },
    {
      "cell_type": "code",
      "source": [
        "n2=np.array([1,2,3])\n",
        "n3=np.array([4,5,6])\n",
        "np.hstack((n2,n3))"
      ],
      "metadata": {
        "colab": {
          "base_uri": "https://localhost:8080/"
        },
        "id": "Fc_jZtCEfO3y",
        "outputId": "110c6b13-475a-404c-ba64-005544d753b9"
      },
      "execution_count": 13,
      "outputs": [
        {
          "output_type": "execute_result",
          "data": {
            "text/plain": [
              "array([1, 2, 3, 4, 5, 6])"
            ]
          },
          "metadata": {},
          "execution_count": 13
        }
      ]
    },
    {
      "cell_type": "markdown",
      "source": [
        "Column Stack"
      ],
      "metadata": {
        "id": "SbrscwaOfh8O"
      }
    },
    {
      "cell_type": "code",
      "source": [
        "n2=np.array([1,2,3])\n",
        "n3=np.array([4,5,6])\n",
        "np.column_stack((n2,n3))"
      ],
      "metadata": {
        "colab": {
          "base_uri": "https://localhost:8080/"
        },
        "id": "scoG4_5sfViI",
        "outputId": "c4a91a0b-5dac-47c8-83b7-558f715f8ec9"
      },
      "execution_count": 14,
      "outputs": [
        {
          "output_type": "execute_result",
          "data": {
            "text/plain": [
              "array([[1, 4],\n",
              "       [2, 5],\n",
              "       [3, 6]])"
            ]
          },
          "metadata": {},
          "execution_count": 14
        }
      ]
    },
    {
      "cell_type": "code",
      "source": [
        "n1=np.array([1,2,3,4])\n",
        "n2=np.array([1,4,5,6])\n",
        "np.intersect1d(n1,n2)"
      ],
      "metadata": {
        "colab": {
          "base_uri": "https://localhost:8080/"
        },
        "id": "3wZZkPRxgbcv",
        "outputId": "5a77f34a-99d5-43b2-82dd-5f5f75e6dc5d"
      },
      "execution_count": 15,
      "outputs": [
        {
          "output_type": "execute_result",
          "data": {
            "text/plain": [
              "array([1, 4])"
            ]
          },
          "metadata": {},
          "execution_count": 15
        }
      ]
    },
    {
      "cell_type": "code",
      "source": [
        "n1=np.array([1,2,3,4])\n",
        "n2=np.array([1,4,5,6])\n",
        "np.setdiff1d(n1,n2)"
      ],
      "metadata": {
        "colab": {
          "base_uri": "https://localhost:8080/"
        },
        "id": "0xiS8zn_g59G",
        "outputId": "e336a688-08c1-458e-af22-1579ce66dd08"
      },
      "execution_count": 16,
      "outputs": [
        {
          "output_type": "execute_result",
          "data": {
            "text/plain": [
              "array([2, 3])"
            ]
          },
          "metadata": {},
          "execution_count": 16
        }
      ]
    },
    {
      "cell_type": "code",
      "source": [
        "n1=np.array([1,2,3,4])\n",
        "n2=np.array([1,4,5,6])\n",
        "np.setdiff1d(n2,n1)"
      ],
      "metadata": {
        "colab": {
          "base_uri": "https://localhost:8080/"
        },
        "id": "BcGbF0a4hFKa",
        "outputId": "6572533b-4d63-4525-d3cd-11b06df2c5ce"
      },
      "execution_count": 17,
      "outputs": [
        {
          "output_type": "execute_result",
          "data": {
            "text/plain": [
              "array([5, 6])"
            ]
          },
          "metadata": {},
          "execution_count": 17
        }
      ]
    }
  ]
}